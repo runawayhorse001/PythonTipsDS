{
 "cells": [
  {
   "cell_type": "code",
   "execution_count": 1,
   "metadata": {},
   "outputs": [],
   "source": [
    "import pandas as pd"
   ]
  },
  {
   "cell_type": "code",
   "execution_count": 14,
   "metadata": {},
   "outputs": [
    {
     "name": "stdout",
     "output_type": "stream",
     "text": [
      "User information is ready!\n"
     ]
    }
   ],
   "source": [
    "try: \n",
    "    login = pd.read_csv(r'login.txt', header=None)\n",
    "    user = login[0][0]\n",
    "    pw = login[0][1]\n",
    "    print('User information is ready!')\n",
    "except:\n",
    "    print('Login information is not avaliable!!!')"
   ]
  },
  {
   "cell_type": "code",
   "execution_count": 16,
   "metadata": {},
   "outputs": [
    {
     "name": "stdout",
     "output_type": "stream",
     "text": [
      "runawayhorse001 PythonTips\n"
     ]
    }
   ],
   "source": [
    "print(user,pw)"
   ]
  },
  {
   "cell_type": "code",
   "execution_count": 19,
   "metadata": {},
   "outputs": [],
   "source": [
    "# Database information\n",
    "host = '##.###.###.##'\n",
    "db_name = 'db_name' \n",
    "table_name = 'table_name'"
   ]
  },
  {
   "cell_type": "code",
   "execution_count": null,
   "metadata": {},
   "outputs": [],
   "source": [
    "# connect to database\n",
    "conn = psycopg2.connect(host=host, database=db_name, user=user, password=pw)\n",
    "cur = conn.cursor()"
   ]
  },
  {
   "cell_type": "code",
   "execution_count": null,
   "metadata": {},
   "outputs": [],
   "source": [
    "sql = \"\"\"\n",
    "      select *\n",
    "      from {table_name}\n",
    "      \"\"\".format(table_name=table_name)\n",
    "dp = pd.read_sql(sql, conn)"
   ]
  },
  {
   "cell_type": "code",
   "execution_count": null,
   "metadata": {},
   "outputs": [],
   "source": [
    "# connect to database\n",
    "url = 'jdbc:postgresql://'+host+':5432/'+db_name+'?user='+user+'&password='+pw\n",
    "properties ={'driver': 'org.postgresql.Driver', 'password': pw,'user': user}\n",
    "ds = spark.read.jdbc(url=url, table=table_name, properties=properties)"
   ]
  }
 ],
 "metadata": {
  "kernelspec": {
   "display_name": "Python 3",
   "language": "python",
   "name": "python3"
  },
  "language_info": {
   "codemirror_mode": {
    "name": "ipython",
    "version": 3
   },
   "file_extension": ".py",
   "mimetype": "text/x-python",
   "name": "python",
   "nbconvert_exporter": "python",
   "pygments_lexer": "ipython3",
   "version": "3.6.8"
  }
 },
 "nbformat": 4,
 "nbformat_minor": 2
}
