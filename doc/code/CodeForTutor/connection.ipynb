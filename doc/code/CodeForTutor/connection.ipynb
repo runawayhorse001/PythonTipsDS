{
  "cells": [
    {
      "cell_type": "code",
      "source": [
        "from pyspark.sql import SparkSession\n",
        "\n",
        "spark = SparkSession \\\n",
        "    .builder \\\n",
        "    .appName(\"Python Spark regression example\") \\\n",
        "    .config(\"spark.some.config.option\", \"some-value\") \\\n",
        "    .getOrCreate()"
      ],
      "outputs": [],
      "execution_count": 1,
      "metadata": {
        "collapsed": true
      }
    },
    {
      "cell_type": "code",
      "source": [
        "import psycopg2\n",
        "import pandas as pd"
      ],
      "outputs": [],
      "execution_count": 2,
      "metadata": {
        "collapsed": true
      }
    },
    {
      "cell_type": "code",
      "source": [
        "user = user\n",
        "pw=pw\n",
        "host = '##.###.###.##'\n",
        "database = 'database'\n",
        "table_name = 'table_name'"
      ],
      "outputs": [],
      "execution_count": 3,
      "metadata": {
        "collapsed": true
      }
    },
    {
      "cell_type": "code",
      "source": [
        "conn = psycopg2.connect(host=host, database=database, user=user, password=pw)\n",
        "cur = conn.cursor()"
      ],
      "outputs": [],
      "execution_count": 4,
      "metadata": {
        "collapsed": true
      }
    },
    {
      "cell_type": "code",
      "source": [
        "sql = \"\"\"\n",
        "      SELECT *\n",
        "      FROM {table_name}\n",
        "      \"\"\".format(table_name=table_name)\n",
        "dp = pd.read_sql(sql, conn)"
      ],
      "outputs": [],
      "execution_count": 5,
      "metadata": {
        "collapsed": true
      }
    },
    {
      "cell_type": "code",
      "source": [
        "url = 'jdbc:postgresql://'+host+':5432/'+database+'?user='+user+'&password='+pw\n",
        "properties ={'driver': 'org.postgresql.Driver', 'password': pw,'user': user}\n",
        "ds = spark.read.jdbc(url=url, table=table_name, properties=properties)"
      ],
      "outputs": [],
      "execution_count": 7,
      "metadata": {}
    },
    {
      "cell_type": "code",
      "source": [
        "my_list = [('a', 2, 3),\n",
        "           ('b', 5, 6),\n",
        "           ('c', 8, 9),\n",
        "           ('a', 2, 3),\n",
        "           ('b', 5, 6),\n",
        "           ('c', 8, 9)]\n",
        "col_name = ['col1', 'col2', 'col3']\n",
        "#\n",
        "dp = pd.DataFrame(my_list,columns=col_name)\n",
        "ds = spark.createDataFrame(my_list,schema=col_name)"
      ],
      "outputs": [],
      "execution_count": 12,
      "metadata": {
        "collapsed": true
      }
    },
    {
      "cell_type": "code",
      "source": [
        "sql = \"\"\"\n",
        "      SELECT sc\n",
        "            , count(*)\n",
        "      FROM {table_name}\n",
        "      GROUP BY 1\n",
        "      \"\"\".format(table_name=table_name)\n",
        "dp = pd.read_sql(sql, conn)"
      ],
      "outputs": [],
      "execution_count": 19,
      "metadata": {}
    },
    {
      "cell_type": "code",
      "source": [
        "ds.registerTempTable('ds')"
      ],
      "outputs": [],
      "execution_count": 22,
      "metadata": {}
    },
    {
      "cell_type": "code",
      "source": [
        "spark.sql(\"SELECT * FROM ds\").show()"
      ],
      "outputs": [
        {
          "output_type": "stream",
          "name": "stdout",
          "text": [
            "+----+----+----+\n",
            "|col1|col2|col3|\n",
            "+----+----+----+\n",
            "|   a|   2|   3|\n",
            "|   b|   5|   6|\n",
            "|   c|   8|   9|\n",
            "|   a|   2|   3|\n",
            "|   b|   5|   6|\n",
            "|   c|   8|   9|\n",
            "+----+----+----+\n",
            "\n"
          ]
        }
      ],
      "execution_count": 31,
      "metadata": {}
    },
    {
      "cell_type": "code",
      "source": [],
      "outputs": [],
      "execution_count": null,
      "metadata": {
        "collapsed": true
      }
    }
  ],
  "metadata": {
    "kernelspec": {
      "name": "python3",
      "language": "python",
      "display_name": "Python 3"
    },
    "language_info": {
      "name": "python",
      "version": "3.6.8",
      "mimetype": "text/x-python",
      "codemirror_mode": {
        "name": "ipython",
        "version": 3
      },
      "pygments_lexer": "ipython3",
      "nbconvert_exporter": "python",
      "file_extension": ".py"
    },
    "kernel_info": {
      "name": "python3"
    },
    "nteract": {
      "version": "0.12.3"
    }
  },
  "nbformat": 4,
  "nbformat_minor": 2
}