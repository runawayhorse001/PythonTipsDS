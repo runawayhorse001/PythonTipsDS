{
 "cells": [
  {
   "cell_type": "code",
   "execution_count": 1,
   "metadata": {},
   "outputs": [
    {
     "name": "stderr",
     "output_type": "stream",
     "text": [
      "Using TensorFlow backend.\n"
     ]
    }
   ],
   "source": [
    "import numpy as np\n",
    "import keras.models\n",
    "from keras.models import model_from_json\n",
    "from scipy.misc import imread, imresize,imshow\n",
    "import cv2"
   ]
  },
  {
   "cell_type": "code",
   "execution_count": 37,
   "metadata": {},
   "outputs": [],
   "source": [
    "json_file = open('model.json','r')"
   ]
  },
  {
   "cell_type": "code",
   "execution_count": 38,
   "metadata": {},
   "outputs": [],
   "source": [
    "loaded_model_json = json_file.read()\n",
    "json_file.close()"
   ]
  },
  {
   "cell_type": "code",
   "execution_count": 39,
   "metadata": {},
   "outputs": [
    {
     "name": "stdout",
     "output_type": "stream",
     "text": [
      "Loaded Model from disk\n"
     ]
    }
   ],
   "source": [
    "loaded_model = model_from_json(loaded_model_json)\n",
    "#load woeights into new model\n",
    "loaded_model.load_weights(\"model.h5\")\n",
    "print(\"Loaded Model from disk\")"
   ]
  },
  {
   "cell_type": "code",
   "execution_count": 40,
   "metadata": {},
   "outputs": [],
   "source": [
    "#compile and evaluate loaded model\n",
    "loaded_model.compile(loss='categorical_crossentropy',optimizer='adam',metrics=['accuracy'])"
   ]
  },
  {
   "cell_type": "code",
   "execution_count": 2,
   "metadata": {},
   "outputs": [
    {
     "name": "stdout",
     "output_type": "stream",
     "text": [
      "(280, 280)\n"
     ]
    }
   ],
   "source": [
    "x = cv2.imread('output.png',0)\n",
    "print(x.shape)\n",
    "x = np.invert(x)\n",
    "x = cv2.resize(x,(28,28))\n",
    "cv2.imshow('image',x)\n",
    "x = x.reshape(1,28,28,1)"
   ]
  },
  {
   "cell_type": "code",
   "execution_count": 49,
   "metadata": {},
   "outputs": [],
   "source": [
    "out = loaded_model.predict(x)"
   ]
  },
  {
   "cell_type": "code",
   "execution_count": 50,
   "metadata": {},
   "outputs": [
    {
     "data": {
      "text/plain": [
       "array([[0., 0., 0., 0., 0., 1., 0., 0., 0., 0.]], dtype=float32)"
      ]
     },
     "execution_count": 50,
     "metadata": {},
     "output_type": "execute_result"
    }
   ],
   "source": [
    "out"
   ]
  },
  {
   "cell_type": "code",
   "execution_count": 51,
   "metadata": {},
   "outputs": [
    {
     "data": {
      "text/plain": [
       "array([5])"
      ]
     },
     "execution_count": 51,
     "metadata": {},
     "output_type": "execute_result"
    }
   ],
   "source": [
    "np.argmax(out,axis=1)"
   ]
  },
  {
   "cell_type": "code",
   "execution_count": 1,
   "metadata": {},
   "outputs": [],
   "source": [
    "imgData = 'data:image/png;base64,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'\n"
   ]
  },
  {
   "cell_type": "code",
   "execution_count": 5,
   "metadata": {},
   "outputs": [
    {
     "data": {
      "text/plain": [
       "'data:image/png;base64,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'"
      ]
     },
     "execution_count": 5,
     "metadata": {},
     "output_type": "execute_result"
    }
   ],
   "source": [
    "imgData"
   ]
  },
  {
   "cell_type": "code",
   "execution_count": 3,
   "metadata": {},
   "outputs": [],
   "source": [
    "import re\n",
    "imgstr = re.search(r'base64,(.*)',imgData).group(1)"
   ]
  },
  {
   "cell_type": "code",
   "execution_count": 4,
   "metadata": {},
   "outputs": [
    {
     "data": {
      "text/plain": [
       "'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'"
      ]
     },
     "execution_count": 4,
     "metadata": {},
     "output_type": "execute_result"
    }
   ],
   "source": [
    "imgstr"
   ]
  },
  {
   "cell_type": "code",
   "execution_count": 10,
   "metadata": {},
   "outputs": [],
   "source": [
    "import base64\n",
    "imgdata = base64.b64decode(imgstr)\n",
    "filename = 'some_image.jpg'  # I assume you have a way of picking unique filenames\n",
    "with open(filename, 'wb') as f:\n",
    "    f.write(imgdata)"
   ]
  },
  {
   "cell_type": "code",
   "execution_count": 14,
   "metadata": {},
   "outputs": [
    {
     "name": "stdout",
     "output_type": "stream",
     "text": [
      "b'\\x89PNG\\r\\n\\x1a\\n\\x00\\x00\\x00\\rIHDR\\x00\\x00\\x01\\x18\\x00\\x00\\x01\\x18\\x08\\x06\\x00\\x00\\x00\\x87\\x8e\\xe9\\x8c\\x00\\x00\\x11wIDATx^\\xed\\xddoh\\x95\\xf5\\x1b\\xc7\\xf1k\\xeb\\xcf\\xccE\\xa5\\xe9\\x9ce\\x85DHXf\\xf6o:\\xb2\\x07R\\x12QJ\\x0f\\x8c`M\\x10\\xc1\\xa2\\x88\\xa4\\x94P\\xf3\\x81e\\x91\\x1a\\x18A\\x91\\x10aVH\\x114\\x890\\xedQ\\xd6\\x16\\xc9\"\\xff<\\x90\\x88!\\x85\\xe1H\\xfb\\x87\\xd9\\x8cr?\\xbe\\xf2\\xdbP\\xa7\\xbb\\xae\\xfbx_\\xdb\\xb9\\xef\\xeb}\\x9e\\xee:\\xdf\\xef}\\xbd\\xae/\\x1f\\xce\\xb6s\\xeeS\\xd3\\xdb\\xdb\\xdb+<\\x10@\\x00\\x01\\x07\\x81\\x1a\\x02\\xc6A\\x95%\\x11@\\xe0\\x84\\x00\\x01\\xc3A@\\x00\\x017\\x01\\x02\\xc6\\x8d\\x96\\x85\\x11@\\x80\\x80\\xe1\\x0c \\x80\\x80\\x9b\\x00\\x01\\xe3F\\xcb\\xc2\\x08 @\\xc0p\\x06\\x10@\\xc0M\\x80\\x80q\\xa3ea\\x04\\x10 `8\\x03\\x08 \\xe0&@\\xc0\\xb8\\xd1\\xb20\\x02\\x08\\x100\\x9c\\x01\\x04\\x10p\\x13 `\\xdchY\\x18\\x01\\x04\\x08\\x18\\xce\\x00\\x02\\x08\\xb8\\t\\x100n\\xb4,\\x8c\\x00\\x02\\x04\\x0cg\\x00\\x01\\x04\\xdc\\x04\\x08\\x187Z\\x16F\\x00\\x01\\x02\\x863\\x80\\x00\\x02n\\x02\\x04\\x8c\\x1b-\\x0b#\\x80\\x00\\x01\\xc3\\x19@\\x00\\x017\\x01\\x02\\xc6\\x8d\\x96\\x85\\x11@\\x80\\x80\\xe1\\x0c \\x80\\x80\\x9b\\x00\\x01\\xe3F\\xcb\\xc2\\x08 @\\xc0p\\x06\\x10@\\xc0M\\x80\\x80q\\xa3ea\\x04\\x10 `8\\x03\\x08 \\xe0&@\\xc0\\xb8\\xd1\\xb20\\x02\\x08\\x100\\x9c\\x01\\x04\\x10p\\x13 `\\xdchY\\x18\\x01\\x04\\x08\\x18\\xce\\x00\\x02\\x08\\xb8\\t\\x100n\\xb4,\\x8c\\x00\\x02\\x04\\x0cg\\x00\\x01\\x04\\xdc\\x04\\x08\\x187Z\\x16F\\x00\\x01\\x02\\x863\\x80\\x00\\x02n\\x02\\x04\\x8c\\x1b-\\x0b#\\x80\\x00\\x01\\xc3\\x19@\\x00\\x017\\x01\\x02\\xc6\\x8d\\x96\\x85\\x11@\\x80\\x80\\xe1\\x0c \\x80\\x80\\x9b\\x00\\x01\\xe3F\\xcb\\xc2\\x08 @\\xc0p\\x06\\x10@\\xc0M\\x80\\x80q\\xa3ea\\x04\\x10 `8\\x03\\x08 \\xe0&@\\xc0\\xb8\\xd1\\xb20\\x02\\x08\\x100\\x9c\\x01\\x04\\x10p\\x13 `\\xdchY\\x18\\x01\\x04\\x08\\x18\\xce\\x00\\x02\\x08\\xb8\\t\\x100n\\xb4,\\x8c\\x00\\x02\\x04\\x0cg\\x00\\x01\\x04\\xdc\\x04\\x08\\x187Z\\x16F\\x00\\x01\\x02\\x863`\\x16X\\xb2d\\x89\\xbc\\xf7\\xde{r\\xf0\\xe0\\xc1\\x13\\xcfill\\x94\\x96\\x96\\x16Y\\xb3f\\x8dy\\r\\nc\\t\\x100\\xb1\\xe6]q\\xb7\\xcd\\xcd\\xcd\\xd2\\xde\\xde~\\xc6\\xe7\\xcf\\x981C\\xbe\\xfa\\xea\\xab\\x8a\\xd7\\xe6\\x89\\xe5\\x15 `\\xca;\\xdb\\xdc:{\\xe1\\x85\\x17\\xe4\\xb9\\xe7\\x9e\\x1bt\\xbdT\\xb3|\\xf9\\xf2\\xdc\\xf6d\\xa1r\\x08\\x100\\xe5\\x98\\xa3k\\x17\\xe9W\\xa1\\xee\\xee\\xeeA\\xf7\\x187n\\\\\\xff\\xafN\\xae\\x17\\xc3\\xe2\\x85\\x12 `\\n5\\xae\\xe1\\xb9\\xd8\\xda\\xdaZ\\xe9\\xed\\xed\\x1dt\\xf3\\x9a\\x9a\\x1a9~\\xfc\\xf8\\xf0\\\\ \\xbbV\\xad\\x00\\x01S\\xb5\\xa3\\xa9\\x9e\\x0bK\\xe1ayh!dY\\x83\\x9ar\\t\\x100\\xe5\\x9a\\xa7K7\\x04\\x8c\\x0bk\\x88E\\t\\x98\\x10c\\xae\\xbc\\xc9C\\x87\\x0e\\xc9\\xd8\\xb1cM\\x0b\\xf0\\n\\xc6\\xc4\\x14\\xaa\\x88\\x80\\t5\\xee\\xec\\xcd\\xee\\xd8\\xb1Cf\\xce\\x9c\\xa9>\\x91\\xbf\\xc1\\xa8D!\\x0b\\x08\\x98\\x90c\\xb77\\xbda\\xc3\\x06Y\\xb4h\\x91\\xfa\\x84K.\\xb9D\\xfe\\xf8\\xe3\\x0f\\xb5\\x8e\\x82X\\x02\\x04L\\xacyg\\xeev\\xf1\\xe2\\xc5\\xb2~\\xfdz\\xf5yw\\xdcq\\x87|\\xfd\\xf5\\xd7j\\x1d\\x05\\xb1\\x04\\x08\\x98X\\xf3\\xce\\xdc\\xed\\x94)Sd\\xcf\\x9e=\\xea\\xf3\\x96-[&\\xabW\\xafV\\xeb(\\x88%@\\xc0\\xc4\\x9aw\\xe6n\\xeb\\xeb\\xeb\\xe5\\xe8\\xd1\\xa3\\xea\\xf36n\\xdc(\\xad\\xad\\xadj\\x1d\\x05\\xb1\\x04\\x08\\x98X\\xf3\\xce\\xd4\\xed/\\xbf\\xfc\"\\r\\r\\r\\xa6\\xe7tttHSS\\x93\\xa9\\x96\\xa28\\x02\\x04L\\x9cYg\\xee\\xf4\\x8b/\\xbe\\x90\\xbb\\xee\\xba\\xcb\\xf4\\xbc\\xc3\\x87\\x0f\\xcb\\xe8\\xd1\\xa3M\\xb5\\x14\\xc5\\x11 `\\xe2\\xcc:s\\xa7o\\xbe\\xf9\\xa6<\\xfa\\xe8\\xa3\\xea\\xf3\\xd2\\xafQG\\x8e\\x1cQ\\xeb(\\x88\\'@\\xc0\\xc4\\x9b\\xb9\\xb9\\xe3\\xa7\\x9ezJ^}\\xf5U\\xb5\\xfe\\xe6\\x9bo\\x96o\\xbf\\xfdV\\xad\\xa3 \\x9e\\x00\\x01\\x13o\\xe6\\xe6\\x8eo\\xb9\\xe5\\x16Sp\\xf0\\x1f$3i\\xb8B\\x02&\\xdc\\xc8\\xed\\r_|\\xf1\\xc5\\xf2\\xd7_\\x7f\\xa9O\\xe0?H*Q\\xd8\\x02\\x02&\\xec\\xe8\\x07o<\\xfd\\xd1v\\xcc\\x981&\\x9dt\\xa7\\xbb\\xe9\\xd3\\xa7\\x9bj)\\x8a%@\\xc0\\xc4\\x9a\\xb7\\xb9\\xdb\\xf4\\xae\\\\kh\\xa4\\x0fD^~\\xf9\\xe5\\xe6\\xb5)\\x8c#@\\xc0\\xc4\\x99u\\xa6N7m\\xdadz\\xe3\\xdcE\\x17]dz#^\\xa6\\xcd).\\x8d\\x00\\x01S\\x9aQ\\xe6\\xdb\\xc8\\xca\\x95+\\xe5\\xf9\\xe7\\x9fW\\x17\\xbd\\xe1\\x86\\x1bL\\x1f%P\\x17\\xa2\\xa0\\x94\\x02\\x04L)\\xc7z\\xeeM=\\xfc\\xf0\\xc3\\xb2y\\xf3fu\\xa1\\'\\x9f|\\xd2\\xf4\\xaflu!\\nJ)@\\xc0\\x94r\\xac\\xe7\\xde\\xd4\\xad\\xb7\\xde*\\x9d\\x9d\\x9d\\xeaB\\xaf\\xbf\\xfe\\xba<\\xf6\\xd8cj\\x1d\\x051\\x05\\x08\\x98\\x98sW\\xbb\\xbe\\xf4\\xd2K\\xe5\\xcf?\\xffT\\xeb>\\xff\\xfcs\\x995k\\x96ZGAL\\x01\\x02&\\xe6\\xdc\\x07\\xed\\xba\\xab\\xabK\\xae\\xbd\\xf6Z\\x93\\xcc\\xfe\\xfd\\xfb\\xe5\\x9ak\\xae1\\xd5R\\x14O\\x80\\x80\\x897s\\xb5\\xe3\\xad[\\xb7\\xca\\xbd\\xf7\\xde\\xab\\xd6\\xa5W9\\xbf\\xff\\xfe\\xbbZGA\\\\\\x01\\x02&\\xee\\xec\\xcf\\xday\\xfa\\xfcQ\\xfa\\x1c\\x92\\xf6\\xe0.v\\x9a\\x10?\\'`8\\x03\\x03\\x04\\x1e\\x7f\\xfcqI\\x7f\\xbc\\xd5\\x1e\\xe9\\x06S\\xe9c\\x02<\\x108\\x9b\\x00\\x01\\xc3\\xd9\\x18 0u\\xeaT\\xd9\\xb5k\\x97*\\xb3j\\xd5*\\xf5;\\xab\\xd5E((\\xb5\\x00\\x01S\\xea\\xf1V\\xd6\\x9c\\xf56\\x99\\xef\\xbf\\xff\\xbe\\xa4\\xf7\\xcb\\xf0@\\x80W0\\x9c\\x01\\x93\\xc0o\\xbf\\xfdf\\xbe3\\xdd7\\xdf|#\\xb7\\xddv\\x9bi]\\x8ab\\n\\xf0\\n&\\xe6\\xdc\\xcf\\xda\\xf5\\xce\\x9d;\\xe5\\xf6\\xdbo7\\xa9\\xfc\\xfa\\xeb\\xaf2j\\xd4(S-E1\\x05\\x08\\x98\\x98s?k\\xd7\\xe9\\xe3\\x01\\x96_{F\\x8e\\x1ci\\xbaW\\x0c\\xbc\\xb1\\x05\\x08\\x98\\xd8\\xf3\\x1f\\xd0}\\xfan\\xa3\\x15+V\\xa8*7\\xddt\\x93|\\xf7\\xddwj\\x1d\\x05\\xb1\\x05\\x08\\x98\\xd8\\xf3\\x1f\\xd0\\xfd\\x82\\x05\\x0b\\xe4\\xed\\xb7\\xdfVU\\xd2\\xcd\\xc0\\xdfx\\xe3\\r\\xb5\\x8e\\x82\\xd8\\x02\\x04L\\xec\\xf9\\x0f\\xe8\\xfe\\xfa\\xeb\\xaf\\x97}\\xfb\\xf6\\xa9*\\xeb\\xd6\\xad\\x93\\xa7\\x9f~Z\\xad\\xa3 \\xb6\\x00\\x01\\x13{\\xfe\\x03\\xbaO7\\x90\\xea\\xe9\\xe9QU>\\xfa\\xe8#y\\xf0\\xc1\\x07\\xd5:\\nb\\x0b\\x100\\xb1\\xe7\\x7fJ\\xf7\\xbd\\xbd\\xbdR[[k\\x12I_S\\x92\\xbe\\xae\\x84\\x07\\x02\\x83\\t\\x100\\x9c\\x8f~\\x81,_\\x15\\x9b\\xde/s\\xd9e\\x97\\xa1\\x87\\xc0\\xa0\\x02\\x04\\x0c\\x07\\xa4_ \\xfd\\xed%\\xfd\\rF{\\xd4\\xd5\\xd5\\x99~\\x8d\\xd2\\xd6\\xe1\\xe7\\xe5\\x17 `\\xca?cs\\x87_~\\xf9\\xa5\\xdcy\\xe7\\x9dj\\xfd\\x84\\t\\x13\\xe4\\xa7\\x9f~R\\xeb(@\\x80\\x80\\xe1\\x0c\\xf4\\x0b\\xb4\\xb5\\xb5\\xc9\\xdc\\xb9sU\\x91\\xe6\\xe6fIa\\xc4\\x03\\x01M\\x80\\x80\\xd1\\x84\\x02\\xfd\\xfc\\xad\\xb7\\xde\\x92\\x85\\x0b\\x17\\xaa\\x1d\\xcf\\x993G>\\xfe\\xf8c\\xb5\\x8e\\x02\\x04\\x08\\x18\\xce@\\xbf\\xc0\\xcb/\\xbf,\\xcf>\\xfb\\xac*\\x92\\xde\\x8c\\x97\\xc2\\x88\\x07\\x02\\x9a\\x00\\x01\\xa3\\t\\x05\\xfa\\xf9\\xd2\\xa5Ke\\xed\\xda\\xb5j\\xc7\\xa9.\\x85\\x11\\x0f\\x044\\x01\\x02F\\x13\\n\\xf4s\\xeb\\xc7\\x04\\xd6\\xacY#K\\x96,\\t$C\\xab\\x95\\n\\x100\\x95\\xca\\x95\\xf0y\\xe9o+[\\xb6lQ;K\\xbf\\x1e\\xa50\\xe2\\x81\\x80&@\\xc0hB\\x81~\\x9e\\xfe;\\xd4\\xde\\xde\\xaev\\x9c\\xfe\\xdb\\xf4\\xc0\\x03\\x0f\\xa8u\\x14 @\\xc0p\\x06\\xfa\\x05\\xd2\\xfb[\\x0e\\x1c8\\xa0\\x8a\\xa4\\x7fQ\\xa70\\xe2\\x81\\x80&@\\xc0hB\\x81~>b\\xc4\\x089v\\xec\\x98\\xdaqz\\xc7\\xef\\xa4I\\x93\\xd4:\\n\\x10 `8\\x03\\'\\x04\\xb2\\xdc\\x8b7}fi\\xcc\\x981\\xc8!\\xa0\\n\\x100*Q\\x8c\\x82,\\xf7\\xe2M\\x9f\\xba\\xe6\\x81\\x80E\\x80\\x80\\xb1(\\x05\\xa8\\xe1^\\xbc\\x01\\x86<\\x0c-\\x120\\xc3\\x80^\\x8d[Z\\xef\\xc5;y\\xf2d\\xd9\\xbbwo5\\xb6\\xc05U\\xa1\\x00\\x01S\\x85C\\x19\\x8eK\\xb2\\xbe\\xc9\\x8e{\\xf1\\x0e\\xc7t\\x8a\\xbb\\'\\x01S\\xdc\\xd9\\xe5z\\xe5\\xdc\\x8b7WN\\x16\\xfb\\xbf\\x00\\x01\\xc3Q8!\\xc0\\xbdx9\\x08\\x1e\\x02\\x04\\x8c\\x87j\\x01\\xd7\\xac\\xa9\\xa91]5\\xf7\\xe251Q\\xc4+\\x18\\xce@\\x9f@ww\\xb7466\\x9a@\\xb8\\x17\\xaf\\x89\\x89\"\\x02\\x863\\xd0\\'\\xb0{\\xf7nI\\xdf\\xd4\\xa8=\\xd2\\xafQG\\x8f\\x1e\\xd5\\xca\\xf89\\x02\\xfd\\x02\\xfc\\x8a\\xc4a\\x90\\xed\\xdb\\xb7\\xcb=\\xf7\\xdc\\xa3JL\\x9c8Q\\xba\\xba\\xba\\xd4:\\n\\x10\\xe8\\x13 `8\\x0b\\xb2i\\xd3&immU%f\\xcf\\x9e-[\\xb7nU\\xeb(@\\x80\\x80\\xe1\\x0c\\xf4\\x0b\\xa4\\xaf\\x81\\xb5\\xdc@*\\x85\\xd0\\xc6\\x8d\\x1b\\x91C\\xc0,\\xc0+\\x183Uy\\x0bS\\xb8\\xa4\\x90\\xd1\\x1e\\xa9.\\xdd\\xcd\\x8e\\x07\\x02V\\x01\\x02\\xc6*U\\xe2\\xba\\xf4\\xca$\\xfd\\x9a\\xa4=\\xf8\\xc2{M\\x88\\x9f\\x9f.@\\xc0p&$\\xfdme\\xdb\\xb6m\\xaaD\\n\\xa1\\x96\\x96\\x16\\xb5\\x8e\\x02\\x04\\xf8\\x1b\\x0cg\\xa0_\\xe0\\xea\\xab\\xaf6}Sc\\n\\xa1\\xbb\\xef\\xbe\\x1b9\\x04\\xcc\\x02\\xbc\\x821S\\x95\\xb7\\xd0z\\'\\xbb\\xf4~\\x99\\x1bo\\xbc\\xb1\\xbc\\x10t\\x96\\xbb\\x00\\x01\\x93;i\\xb1\\x16<t\\xe8\\x90\\x8c\\x1d;\\xd6t\\xd1\\xe9\\x1d\\xbf\\r\\r\\r\\xa6Z\\x8a\\x10H\\x02\\x04L\\xf0s\\xb0c\\xc7\\x0e\\x999s\\xa6I\\x81;\\xd9\\x99\\x98(:I\\x80\\x80\\t~\\x1c6l\\xd8 \\x8b\\x16-R\\x15\\xea\\xeb\\xeb\\xe5\\xc8\\x91#j\\x1d\\x05\\x08\\x9c,@\\xc0\\x04?\\x0f\\x8b\\x17/\\x96\\xf5\\xeb\\xd7\\xab\\n\\xd3\\xa6M\\x93\\xce\\xceN\\xb5\\x8e\\x02\\x04\\x08\\x18\\xce@\\xbf@\\xfa\\x90c\\xfa\\xe3\\xad\\xf6X\\xb6l\\x99\\xa4\\xdbj\\xf2@ \\x8b\\x00\\xaf`\\xb2h\\x95\\xb0v\\xe4\\xc8\\x91\\xf2\\xf7\\xdf\\x7f\\xab\\x9d\\xa5\\x8f\\x08X>\\xaf\\xa4.DA(\\x01\\x02&\\xd4\\xb8Om6\\xfd\\xd1\\xb6\\xb6\\xb6\\xd6$\\xd0\\xd1\\xd1!MMM\\xa6Z\\x8a\\x10\\xe8\\x13 `\\x02\\x9f\\x85\\x83\\x07\\x0f\\xca\\xf8\\xf1\\xe3M\\x02\\x87\\x0f\\x1f\\x96\\xd1\\xa3G\\x9bj)B\\x80\\x80\\xe1\\x0c\\xc8\\xae]\\xbbd\\xea\\xd4\\xa9\\xaaD]]\\x9d\\xf4\\xf4\\xf4\\xa8u\\x14 p\\xba\\x00\\xaf`\\x02\\x9f\\x89\\xf4\\xd6\\xff\\xf49$\\xedq\\xd5UW\\xc9\\x8f?\\xfe\\xa8\\x95\\xf1s\\x04\\x06\\x08\\x100\\x81\\x0f\\xc5;\\xef\\xbc#\\xf3\\xe7\\xcfW\\x05\\xd2\\xdd\\xee>\\xfb\\xec3\\xb5\\x8e\\x02\\x04x\\x05\\xc3\\x19\\xe8\\x17X\\xbbv\\xad,]\\xbaT\\x15y\\xe4\\x91G$\\x85\\x11\\x0f\\x04\\xb2\\n\\xf0\\n&\\xabX\\x89\\xea\\x9fy\\xe6\\x19y\\xe5\\x95W\\xd4\\x8eR]\\n#\\x1e\\x08d\\x15 `\\xb2\\x8a\\x95\\xa8>\\xbd2y\\xf7\\xddw\\xd5\\x8e\\xb8\\xd1\\x94JD\\xc1Y\\x04\\x08\\x98\\xc0G#\\xfdm%}\\xa3\\x80\\xf6\\xe0FS\\x9a\\x10??\\x9b\\x00\\x01\\x13\\xf8l\\\\w\\xddu\\xf2\\xc3\\x0f?\\xa8\\x02\\xdchJ%\\xa2\\x80W0\\x9c\\x81\\xd3\\x05\\xac\\xdfG\\x9d\\xde/3e\\xca\\x14\\x00\\x11\\xc8,\\xc0+\\x98\\xccd\\xe5y\\x82\\xf5\\xfb\\xa8\\xd3;~\\xc7\\x8d\\x1bW\\x9e\\xc6\\xe9d\\xc8\\x04\\x08\\x98!\\xa3\\xae\\xbe\\x8d\\xac\\x01\\xc3\\x8d\\xa6\\xaaovE\\xb9\"\\x02\\xa6(\\x93r\\xb8N\\x02\\xc6\\x01\\x95%O\\x11 `\\x02\\x1f\\x08\\x02&\\xf0\\xf0\\x87\\xa8u\\x02f\\x88\\xa0\\xabq\\x1b\\x02\\xa6\\x1a\\xa7R\\xaek\"`\\xca5\\xcfL\\xdd\\x100\\x99\\xb8(\\xae@\\x80\\x80\\xa9\\x00\\xad\\x0cOI\\xef\\x7fI\\xef\\x83\\xb1<\\xf8#\\xafE\\x89\\x9a3\\t\\x100A\\xcf\\xc5\\x87\\x1f~(\\xf3\\xe6\\xcd3uO\\xc0\\x98\\x98(:\\x83\\x00\\x01\\x13\\xf4X,_\\xbe\\\\^|\\xf1E\\xb5{\\xbe\\xaeD%\\xa2`\\x10\\x01\\x02&\\xe8\\xf1hnn\\x96\\xf6\\xf6v\\xb5\\xfb\\xe9\\xd3\\xa7\\x9b\\xea\\xd4\\x85(\\x08)@\\xc0\\x84\\x1c\\xbb\\x88\\xf5\\xdb\\x04\\xd2W\\x95\\xa4\\xaf,\\xe1\\x81@%\\x02\\x04L%j%x\\x8e\\xf5?H[\\xb6l\\x91\\xfb\\xef\\xbf\\xbf\\x04\\x1d\\xd3\\xc2p\\x08\\x100\\xc3\\xa1^\\x05{Z\\x03\\xa6\\xab\\xabK&N\\x9cX\\x05W\\xcc%\\x14Q\\x80\\x80)\\xe2\\xd4r\\xb8fk\\xc0\\xf0\\x1f\\xa4\\x1c\\xb0\\x03/A\\xc0\\x04\\x1d\\xbe%`R\\xcd\\xf1\\xe3\\xc7\\x83\\n\\xd1v\\x1e\\x02\\x04L\\x1e\\x8a\\x05\\\\\\x83\\x80)\\xe0\\xd0\\nx\\xc9\\x04L\\x01\\x87\\x96\\xc7%\\x130y(\\xb2\\x86&@\\xc0hB%\\xfd9\\x01S\\xd2\\xc1VY[\\x04L\\x95\\rd\\xa8.\\x87\\x80\\x19*\\xe9\\xd8\\xfb\\x100A\\xe7o\\t\\x98D\\xc3\\x7f\\x91\\x82\\x1e\\x90\\x9c\\xda&`r\\x82,\\xd22|\\x92\\xbaH\\xd3*\\xf6\\xb5\\x120\\xc5\\x9e_EW\\xcf\\'\\xa9+b\\xe3I\\x15\\x08\\x100\\x15\\xa0\\x15\\xfd)|\\x92\\xba\\xe8\\x13,\\xce\\xf5\\x130\\xc5\\x99UnW\\x9a\\xbe\\xe3h\\xcf\\x9e=\\xeaz|\\x92Z%\\xa2@\\x11 `\\x02\\x1e\\x91\\x11#F\\xc8\\xb1c\\xc7\\xd4\\xce\\xf9$\\xb5JD\\x01\\x01\\xc3\\x198Y \\xcb\\x1fx\\xf9$5g\\xe7\\\\\\x05x\\x05s\\xae\\x82\\x05{~\\x96?\\xf0\\xf2I\\xea\\x82\\r\\xb7\\n/\\x97\\x80\\xa9\\xc2\\xa1x^\\x92\\xf5\\x0f\\xbcuuu\\xd2\\xd3\\xd3\\xe3y)\\xac\\x1d@\\x80\\x80\\t0\\xe4\\x93[\\xb4\\xde*s\\xda\\xb4i\\xd2\\xd9\\xd9\\x19L\\x87v\\xf3\\x16 `\\xf2\\x16\\xad\\xf2\\xf5\\xb8Uf\\x95\\x0f\\xa8d\\x97G\\xc0\\x94l\\xa0\\x83\\xb5\\x93\\xde\\xf6_[[k\\xea\\x98?\\xf0\\x9a\\x98(\\xe2\\xbfH\\x9c\\x81>\\x81t\\xf3\\xa8\\xf3\\xce;\\xcf\\x04\\xc2\\x1fxML\\x14\\x110\\x9c\\x81>\\x81,\\xaf`\\xf8\\x90#\\xe7&\\x0f\\x01~E\\xcaC\\xb1 k|\\xff\\xfd\\xf72i\\xd2$\\xd3\\xd5\\x120&&\\x8ax\\x05\\xc3\\x19\\xe8\\x13\\xf8\\xe0\\x83\\x0f\\xe4\\xa1\\x87\\x1e2\\x81\\x100&&\\x8a\\x08\\x18\\xce@\\x9f@\\xfa\\x02\\xb5\\x97^zI\\x05\\xe1\\xebbU\"\\n\\x8c\\x02\\xfc\\x8ad\\x84*C\\xd9\\x8c\\x193\\xa4\\xa3\\xa3Cm\\x85\\x0f9\\xaaD\\x14\\x18\\x05\\x08\\x18#T\\x19\\xca\\xd2\\xbbs\\xff\\xf9\\xe7\\x1f\\xb5\\x15>\\xe4\\xa8\\x12Q`\\x14 `\\x8cPe(\\xb3\\xde&\\x93\\xf7\\xc0\\x94a\\xda\\xd5\\xd1\\x03\\x01S\\x1dsp\\xbf\\x8a\\xb9s\\xe7J[[\\x9bi\\x1f\\xde\\x03cb\\xa2\\xc8 @\\xc0\\x18\\x90\\xcaPr\\xc1\\x05\\x17\\xc8\\xbf\\xff\\xfe\\xab\\xb6\\xc2\\xb79\\xaaD\\x14d\\x10 `2`\\x15\\xb9\\xd4\\xfa\\xebQCC\\x83tww\\x17\\xb9U\\xae\\xbd\\x8a\\x04\\x08\\x98*\\x1a\\x86\\xe7\\xa5X\\x03\\xe6\\x89\\'\\x9e\\x90\\xd7^{\\xcd\\xf3RX;\\x90\\x00\\x01\\x13d\\xd8\\xd6\\x80\\xe1\\rvA\\x0e\\xc4\\x10\\xb5I\\xc0\\x0c\\x11\\xf4poC\\xc0\\x0c\\xf7\\x04b\\xeeO\\xc0\\x04\\x99\\xfb\\xf9\\xe7\\x9f/\\xff\\xfd\\xf7\\xdf\\xa0\\xdd\\xa6OZ[\\xfe\\x10\\x1c\\x84\\x8c6s\\x10 `r@,\\xc2\\x12\\xf7\\xddw\\x9f|\\xfa\\xe9\\xa7\\x83^j\\xaa\\xf9\\xe4\\x93O\\x8a\\xd0\\x0e\\xd7X\\x10\\x01\\x02\\xa6 \\x83\\xca\\xe32\\xaf\\xbc\\xf2J\\xf9\\xf9\\xe7\\x9f\\xcf\\xb8\\xd4\\x15W\\\\!\\x07\\x0e\\x1c\\xc8c\\x1b\\xd6@\\xa0_\\x80\\x80\\tv\\x18\\xe6\\xcd\\x9bw\\xe2\\rw}\\x1f\\x19\\xb8\\xf0\\xc2\\x0be\\xce\\x9c9\\x92>i\\xcd\\x03\\x81\\xbc\\x05\\x08\\x98\\xbcEY\\x0f\\x01\\x04x\\x05\\xc3\\x19@\\x00\\x01\\x7f\\x01^\\xc1\\xf8\\x1b\\xb3\\x03\\x02a\\x05\\x08\\x98\\xb0\\xa3\\xa7q\\x04\\xfc\\x05\\x08\\x18\\x7fcv@ \\xac\\x00\\x01\\x13v\\xf44\\x8e\\x80\\xbf\\x00\\x01\\xe3o\\xcc\\x0e\\x08\\x84\\x15 `\\xc2\\x8e\\x9e\\xc6\\x11\\xf0\\x17 `\\xfc\\x8d\\xd9\\x01\\x81\\xb0\\x02\\x04L\\xd8\\xd1\\xd38\\x02\\xfe\\x02\\x04\\x8c\\xbf1; \\x10V\\x80\\x80\\t;z\\x1aG\\xc0_\\x80\\x80\\xf17f\\x07\\x04\\xc2\\n\\x100aGO\\xe3\\x08\\xf8\\x0b\\x100\\xfe\\xc6\\xec\\x80@X\\x01\\x02&\\xec\\xe8i\\x1c\\x01\\x7f\\x01\\x02\\xc6\\xdf\\x98\\x1d\\x10\\x08+@\\xc0\\x84\\x1d=\\x8d#\\xe0/@\\xc0\\xf8\\x1b\\xb3\\x03\\x02a\\x05\\x08\\x98\\xb0\\xa3\\xa7q\\x04\\xfc\\x05\\x08\\x18\\x7fcv@ \\xac\\x00\\x01\\x13v\\xf44\\x8e\\x80\\xbf\\x00\\x01\\xe3o\\xcc\\x0e\\x08\\x84\\x15 `\\xc2\\x8e\\x9e\\xc6\\x11\\xf0\\x17 `\\xfc\\x8d\\xd9\\x01\\x81\\xb0\\x02\\x04L\\xd8\\xd1\\xd38\\x02\\xfe\\x02\\x04\\x8c\\xbf1; \\x10V\\x80\\x80\\t;z\\x1aG\\xc0_\\x80\\x80\\xf17f\\x07\\x04\\xc2\\n\\x100aGO\\xe3\\x08\\xf8\\x0b\\x100\\xfe\\xc6\\xec\\x80@X\\x01\\x02&\\xec\\xe8i\\x1c\\x01\\x7f\\x01\\x02\\xc6\\xdf\\x98\\x1d\\x10\\x08+@\\xc0\\x84\\x1d=\\x8d#\\xe0/@\\xc0\\xf8\\x1b\\xb3\\x03\\x02a\\x05\\x08\\x98\\xb0\\xa3\\xa7q\\x04\\xfc\\x05\\x08\\x18\\x7fcv@ \\xac\\x00\\x01\\x13v\\xf44\\x8e\\x80\\xbf\\x00\\x01\\xe3o\\xcc\\x0e\\x08\\x84\\x15 `\\xc2\\x8e\\x9e\\xc6\\x11\\xf0\\x17 `\\xfc\\x8d\\xd9\\x01\\x81\\xb0\\x02\\x04L\\xd8\\xd1\\xd38\\x02\\xfe\\x02\\x04\\x8c\\xbf1; \\x10V\\x80\\x80\\t;z\\x1aG\\xc0_\\x80\\x80\\xf17f\\x07\\x04\\xc2\\n\\x100aGO\\xe3\\x08\\xf8\\x0b\\x100\\xfe\\xc6\\xec\\x80@X\\x01\\x02&\\xec\\xe8i\\x1c\\x01\\x7f\\x01\\x02\\xc6\\xdf\\x98\\x1d\\x10\\x08+@\\xc0\\x84\\x1d=\\x8d#\\xe0/@\\xc0\\xf8\\x1b\\xb3\\x03\\x02a\\x05\\x08\\x98\\xb0\\xa3\\xa7q\\x04\\xfc\\x05\\x08\\x18\\x7fcv@ \\xac\\x00\\x01\\x13v\\xf44\\x8e\\x80\\xbf\\x00\\x01\\xe3o\\xcc\\x0e\\x08\\x84\\x15 `\\xc2\\x8e\\x9e\\xc6\\x11\\xf0\\x17 `\\xfc\\x8d\\xd9\\x01\\x81\\xb0\\x02\\x04L\\xd8\\xd1\\xd38\\x02\\xfe\\x02\\x04\\x8c\\xbf1; \\x10V\\x80\\x80\\t;z\\x1aG\\xc0_\\x80\\x80\\xf17f\\x07\\x04\\xc2\\n\\x100aGO\\xe3\\x08\\xf8\\x0b\\x100\\xfe\\xc6\\xec\\x80@X\\x01\\x02&\\xec\\xe8i\\x1c\\x01\\x7f\\x01\\x02\\xc6\\xdf\\x98\\x1d\\x10\\x08+@\\xc0\\x84\\x1d=\\x8d#\\xe0/@\\xc0\\xf8\\x1b\\xb3\\x03\\x02a\\x05\\x08\\x98\\xb0\\xa3\\xa7q\\x04\\xfc\\x05\\x08\\x18\\x7fcv@ \\xac\\x00\\x01\\x13v\\xf44\\x8e\\x80\\xbf\\x00\\x01\\xe3o\\xcc\\x0e\\x08\\x84\\x15 `\\xc2\\x8e\\x9e\\xc6\\x11\\xf0\\x17 `\\xfc\\x8d\\xd9\\x01\\x81\\xb0\\x02\\x04L\\xd8\\xd1\\xd38\\x02\\xfe\\x02\\x04\\x8c\\xbf1; \\x10V\\x80\\x80\\t;z\\x1aG\\xc0_\\x80\\x80\\xf17f\\x07\\x04\\xc2\\n\\x100aGO\\xe3\\x08\\xf8\\x0b\\x100\\xfe\\xc6\\xec\\x80@X\\x01\\x02&\\xec\\xe8i\\x1c\\x01\\x7f\\x01\\x02\\xc6\\xdf\\x98\\x1d\\x10\\x08+@\\xc0\\x84\\x1d=\\x8d#\\xe0/@\\xc0\\xf8\\x1b\\xb3\\x03\\x02a\\x05\\x08\\x98\\xb0\\xa3\\xa7q\\x04\\xfc\\x05\\x08\\x18\\x7fcv@ \\xac\\x00\\x01\\x13v\\xf44\\x8e\\x80\\xbf\\x00\\x01\\xe3o\\xcc\\x0e\\x08\\x84\\x15 `\\xc2\\x8e\\x9e\\xc6\\x11\\xf0\\x17 `\\xfc\\x8d\\xd9\\x01\\x81\\xb0\\x02\\x04L\\xd8\\xd1\\xd38\\x02\\xfe\\x02\\x04\\x8c\\xbf1; \\x10V\\x80\\x80\\t;z\\x1aG\\xc0_\\x80\\x80\\xf17f\\x07\\x04\\xc2\\n\\x100aGO\\xe3\\x08\\xf8\\x0b\\x100\\xfe\\xc6\\xec\\x80@X\\x01\\x02&\\xec\\xe8i\\x1c\\x01\\x7f\\x81\\xff\\x01\\x95\\xb8N\"3nZ+\\x00\\x00\\x00\\x00IEND\\xaeB`\\x82'\n"
     ]
    }
   ],
   "source": [
    "print(imgdata)"
   ]
  },
  {
   "cell_type": "code",
   "execution_count": null,
   "metadata": {},
   "outputs": [],
   "source": []
  }
 ],
 "metadata": {
  "kernelspec": {
   "display_name": "Python 3",
   "language": "python",
   "name": "python3"
  },
  "language_info": {
   "codemirror_mode": {
    "name": "ipython",
    "version": 3
   },
   "file_extension": ".py",
   "mimetype": "text/x-python",
   "name": "python",
   "nbconvert_exporter": "python",
   "pygments_lexer": "ipython3",
   "version": "3.6.8"
  }
 },
 "nbformat": 4,
 "nbformat_minor": 2
}
