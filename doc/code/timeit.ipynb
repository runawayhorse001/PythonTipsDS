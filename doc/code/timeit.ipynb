{
 "cells": [
  {
   "cell_type": "code",
   "execution_count": 1,
   "metadata": {},
   "outputs": [],
   "source": [
    "import numpy as np"
   ]
  },
  {
   "cell_type": "code",
   "execution_count": 2,
   "metadata": {},
   "outputs": [
    {
     "data": {
      "text/plain": [
       "'/Users/dt216661/Documents/MyTutorial/PythonTipsDS/doc/code'"
      ]
     },
     "execution_count": 2,
     "metadata": {},
     "output_type": "execute_result"
    }
   ],
   "source": [
    "%pwd"
   ]
  },
  {
   "cell_type": "code",
   "execution_count": 6,
   "metadata": {},
   "outputs": [],
   "source": [
    "%quickref"
   ]
  },
  {
   "cell_type": "code",
   "execution_count": 4,
   "metadata": {},
   "outputs": [],
   "source": [
    "a = np.random.randn(100,100)"
   ]
  },
  {
   "cell_type": "code",
   "execution_count": 4,
   "metadata": {},
   "outputs": [
    {
     "name": "stdout",
     "output_type": "stream",
     "text": [
      "10000 loops, best of 3: 101 µs per loop\n"
     ]
    }
   ],
   "source": [
    "%timeit np.dot(a,a)"
   ]
  },
  {
   "cell_type": "code",
   "execution_count": 5,
   "metadata": {},
   "outputs": [
    {
     "name": "stdout",
     "output_type": "stream",
     "text": [
      "NOTE: Enter 'c' at the ipdb>  prompt to continue execution.\n",
      "> \u001b[0;32m<string>\u001b[0m(1)\u001b[0;36m<module>\u001b[0;34m()\u001b[0m\n",
      "\n",
      "ipdb> c\n"
     ]
    }
   ],
   "source": [
    "%debug np.dot(a,a)"
   ]
  },
  {
   "cell_type": "code",
   "execution_count": 8,
   "metadata": {},
   "outputs": [
    {
     "name": "stdout",
     "output_type": "stream",
     "text": [
      "total 5824\r\n",
      "drwxr-xr-x   8 dt216661  staff      256 Mar 12 14:51 \u001b[34m.\u001b[m\u001b[m/\r\n",
      "drwxr-xr-x  21 dt216661  staff      672 Mar  6 16:02 \u001b[34m..\u001b[m\u001b[m/\r\n",
      "-rw-r--r--@  1 dt216661  staff     8196 Mar 12 10:07 .DS_Store\r\n",
      "drwxr-xr-x   6 dt216661  staff      192 Mar 12 14:49 \u001b[34m.ipynb_checkpoints\u001b[m\u001b[m/\r\n",
      "drwxr-xr-x  15 dt216661  staff      480 Mar  8 11:28 \u001b[34mCodeForTutor\u001b[m\u001b[m/\r\n",
      "drwxr-xr-x  15 dt216661  staff      480 Mar 11 16:45 \u001b[34mmcmc\u001b[m\u001b[m/\r\n",
      "-rw-r--r--   1 dt216661  staff  2964537 Mar  9 14:58 mcmc.zip\r\n",
      "-rw-r--r--@  1 dt216661  staff     2056 Mar 12 14:51 timeit.ipynb\r\n"
     ]
    }
   ],
   "source": [
    "%ls -la"
   ]
  },
  {
   "cell_type": "code",
   "execution_count": null,
   "metadata": {},
   "outputs": [],
   "source": []
  }
 ],
 "metadata": {
  "kernelspec": {
   "display_name": "Python 3",
   "language": "python",
   "name": "python3"
  },
  "language_info": {
   "codemirror_mode": {
    "name": "ipython",
    "version": 3
   },
   "file_extension": ".py",
   "mimetype": "text/x-python",
   "name": "python",
   "nbconvert_exporter": "python",
   "pygments_lexer": "ipython3",
   "version": "3.6.6"
  }
 },
 "nbformat": 4,
 "nbformat_minor": 2
}
