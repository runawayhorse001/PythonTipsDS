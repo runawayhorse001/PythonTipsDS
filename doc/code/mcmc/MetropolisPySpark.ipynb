{
 "cells": [
  {
   "cell_type": "code",
   "execution_count": 6,
   "metadata": {},
   "outputs": [],
   "source": [
    "from pyspark.sql import SparkSession\n",
    "\n",
    "spark = SparkSession \\\n",
    "    .builder \\\n",
    "    .appName(\"Python Spark regression example\") \\\n",
    "    .config(\"spark.some.config.option\", \"some-value\") \\\n",
    "    .getOrCreate()"
   ]
  },
  {
   "cell_type": "code",
   "execution_count": 7,
   "metadata": {},
   "outputs": [],
   "source": [
    "import numpy as np"
   ]
  },
  {
   "cell_type": "code",
   "execution_count": 82,
   "metadata": {},
   "outputs": [],
   "source": [
    "from scipy.stats import norm\n",
    "from pyspark.sql.functions import udf\n",
    "from pyspark.sql.types import StringType, DoubleType\n",
    "\n",
    "def rnorm(n,mean,sd):\n",
    "    \"\"\"\n",
    "    same functions as rnorm in r\n",
    "    r: rnorm(n, mean=0, sd=1)\n",
    "    py: rvs(loc=0, scale=1, size=1, random_state=None)\n",
    "    \"\"\"\n",
    "    return spark.sparkContext.parallelize(norm.rvs(loc=mean,scale=sd,size=n))\n",
    "\n",
    "\n",
    "def dnorm(x,mean,sd, log=False):\n",
    "    \"\"\"\n",
    "    same functions as dnorm in r\n",
    "    dnorm(x, mean=0, sd=1, log=FALSE)\n",
    "    pdf(x, loc=0, scale=1)\n",
    "    \"\"\"\n",
    "    if log:\n",
    "        y = np.log(norm.pdf(x=x.collect(),loc=mean,scale=sd))\n",
    "        return spark.sparkContext.parallelize(y)\n",
    "    else:\n",
    "        y = norm.pdf(x=x.collect(),loc=mean,scale=sd)\n",
    "        return spark.sparkContext.parallelize(y)\n",
    "\n",
    "def runif(n,min=0, max=1):\n",
    "    \"\"\"\n",
    "    r: runif(n, min = 0, max = 1)\n",
    "    py: random.uniform(low=0.0, high=1.0, size=None)\n",
    "    \"\"\"\n",
    "    return spark.sparkContext.parallelize(np.random.uniform(min,max,size=n)) \n",
    "\n",
    "def dnorm_np(x,mean,sd, log=False):\n",
    "    \"\"\"\n",
    "    same functions as dnorm in r\n",
    "    dnorm(x, mean=0, sd=1, log=FALSE)\n",
    "    pdf(x, loc=0, scale=1)\n",
    "    \"\"\"\n",
    "    if log:\n",
    "        return np.log(norm.pdf(x=x,loc=mean,scale=sd))\n",
    "    else:\n",
    "        return norm.pdf(x=x,loc=mean,scale=sd)"
   ]
  },
  {
   "cell_type": "code",
   "execution_count": 67,
   "metadata": {},
   "outputs": [],
   "source": [
    "import pyspark.sql.functions as F"
   ]
  },
  {
   "cell_type": "code",
   "execution_count": 68,
   "metadata": {},
   "outputs": [
    {
     "data": {
      "text/plain": [
       "[10.238732417110164,\n",
       " 10.264727916303315,\n",
       " 8.85077226458646,\n",
       " 10.128028714245518,\n",
       " 11.75841939918616]"
      ]
     },
     "execution_count": 68,
     "metadata": {},
     "output_type": "execute_result"
    }
   ],
   "source": [
    "rnorm(5,10,1).collect()"
   ]
  },
  {
   "cell_type": "code",
   "execution_count": 69,
   "metadata": {},
   "outputs": [
    {
     "data": {
      "text/plain": [
       "48.408527454590086"
      ]
     },
     "execution_count": 69,
     "metadata": {},
     "output_type": "execute_result"
    }
   ],
   "source": [
    "rnorm(5,10,1).sum()"
   ]
  },
  {
   "cell_type": "code",
   "execution_count": 70,
   "metadata": {},
   "outputs": [],
   "source": [
    "s2 = 1\n",
    "t2 = 10\n",
    "mu = 5\n",
    "n = 5 "
   ]
  },
  {
   "cell_type": "code",
   "execution_count": 71,
   "metadata": {},
   "outputs": [
    {
     "data": {
      "text/plain": [
       "[11.016470307356224,\n",
       " 9.969016324093525,\n",
       " 10.987999834057113,\n",
       " 9.739106369023839,\n",
       " 10.00969157867778]"
      ]
     },
     "execution_count": 71,
     "metadata": {},
     "output_type": "execute_result"
    }
   ],
   "source": [
    "y = rnorm(n,10,1)\n",
    "y.collect()"
   ]
  },
  {
   "cell_type": "code",
   "execution_count": 72,
   "metadata": {},
   "outputs": [
    {
     "data": {
      "text/plain": [
       "10.344456882641696"
      ]
     },
     "execution_count": 72,
     "metadata": {},
     "output_type": "execute_result"
    }
   ],
   "source": [
    "y.mean()"
   ]
  },
  {
   "cell_type": "code",
   "execution_count": 73,
   "metadata": {},
   "outputs": [
    {
     "data": {
      "text/plain": [
       "10.239663610433036"
      ]
     },
     "execution_count": 73,
     "metadata": {},
     "output_type": "execute_result"
    }
   ],
   "source": [
    "# mean of the normal posterior\n",
    "mu_n = (y.mean()*n/s2 + mu/float(t2))/(n/float(s2)+1/float(t2)) \n",
    "mu_n"
   ]
  },
  {
   "cell_type": "code",
   "execution_count": 74,
   "metadata": {},
   "outputs": [
    {
     "data": {
      "text/plain": [
       "0.19607843137254904"
      ]
     },
     "execution_count": 74,
     "metadata": {},
     "output_type": "execute_result"
    }
   ],
   "source": [
    "# variance of the normal posterior\n",
    "# t2.n<-1/(n/s2+1/t2)\n",
    "\n",
    "t2_n = 1.0/(n/float(s2)+1.0/t2)\n",
    "t2_n"
   ]
  },
  {
   "cell_type": "code",
   "execution_count": 75,
   "metadata": {},
   "outputs": [],
   "source": [
    "# defining the data\n",
    "# y<-c(9.37, 10.18, 9.16, 11.60, 10.33)\n",
    "\n",
    "y = spark.sparkContext.parallelize([9.37, 10.18, 9.16, 11.60, 10.33])"
   ]
  },
  {
   "cell_type": "code",
   "execution_count": 81,
   "metadata": {},
   "outputs": [
    {
     "data": {
      "text/plain": [
       "list"
      ]
     },
     "execution_count": 81,
     "metadata": {},
     "output_type": "execute_result"
    }
   ],
   "source": [
    "type(y.collect())"
   ]
  },
  {
   "cell_type": "code",
   "execution_count": 76,
   "metadata": {},
   "outputs": [
    {
     "data": {
      "text/plain": [
       "10.027450980392157"
      ]
     },
     "execution_count": 76,
     "metadata": {},
     "output_type": "execute_result"
    }
   ],
   "source": [
    "mu_n = (y.mean()*n/s2 + mu/float(t2))/(n/float(s2)+1/float(t2)) \n",
    "mu_n"
   ]
  },
  {
   "cell_type": "code",
   "execution_count": 77,
   "metadata": {},
   "outputs": [],
   "source": [
    "####metropolis part####\n",
    "##S = total num of simulations\n",
    "# theta<-0 ; delta<-2 ; S<-10000 ; THETA<-NULL ; set.seed(1)\n",
    "\n",
    "theta = 0 \n",
    "delta = 2\n",
    "\n",
    "S = 10000\n",
    "\n",
    "theta_v = []"
   ]
  },
  {
   "cell_type": "code",
   "execution_count": 78,
   "metadata": {},
   "outputs": [
    {
     "data": {
      "text/plain": [
       "array([-1.06519926])"
      ]
     },
     "execution_count": 78,
     "metadata": {},
     "output_type": "execute_result"
    }
   ],
   "source": [
    "theta_star = norm.rvs(theta,np.sqrt(delta),1)\n",
    "theta_star\n"
   ]
  },
  {
   "cell_type": "code",
   "execution_count": 86,
   "metadata": {},
   "outputs": [
    {
     "data": {
      "text/plain": [
       "-319.67490663953623"
      ]
     },
     "execution_count": 86,
     "metadata": {},
     "output_type": "execute_result"
    }
   ],
   "source": [
    "dnorm(y,theta_star,np.sqrt(s2),log=True).sum()"
   ]
  },
  {
   "cell_type": "code",
   "execution_count": 92,
   "metadata": {},
   "outputs": [
    {
     "ename": "AttributeError",
     "evalue": "'numpy.ndarray' object has no attribute 'rdd'",
     "output_type": "error",
     "traceback": [
      "\u001b[0;31m---------------------------------------------------------------------------\u001b[0m",
      "\u001b[0;31mAttributeError\u001b[0m                            Traceback (most recent call last)",
      "\u001b[0;32m<ipython-input-92-ff2b385ac5a9>\u001b[0m in \u001b[0;36m<module>\u001b[0;34m\u001b[0m\n\u001b[0;32m----> 1\u001b[0;31m \u001b[0mdnorm\u001b[0m\u001b[0;34m(\u001b[0m\u001b[0mtheta_star\u001b[0m\u001b[0;34m.\u001b[0m\u001b[0mrdd\u001b[0m\u001b[0;34m,\u001b[0m\u001b[0mmu\u001b[0m\u001b[0;34m,\u001b[0m\u001b[0mnp\u001b[0m\u001b[0;34m.\u001b[0m\u001b[0msqrt\u001b[0m\u001b[0;34m(\u001b[0m\u001b[0mt2\u001b[0m\u001b[0;34m)\u001b[0m\u001b[0;34m,\u001b[0m\u001b[0mlog\u001b[0m\u001b[0;34m=\u001b[0m\u001b[0;32mTrue\u001b[0m\u001b[0;34m)\u001b[0m\u001b[0;34m.\u001b[0m\u001b[0msum\u001b[0m\u001b[0;34m(\u001b[0m\u001b[0;34m)\u001b[0m\u001b[0;34m\u001b[0m\u001b[0m\n\u001b[0m",
      "\u001b[0;31mAttributeError\u001b[0m: 'numpy.ndarray' object has no attribute 'rdd'"
     ]
    }
   ],
   "source": [
    "dnorm(theta_star.rdd,mu,np.sqrt(t2),log=True).sum()"
   ]
  },
  {
   "cell_type": "code",
   "execution_count": 89,
   "metadata": {},
   "outputs": [
    {
     "ename": "AttributeError",
     "evalue": "'numpy.ndarray' object has no attribute 'rdd'",
     "output_type": "error",
     "traceback": [
      "\u001b[0;31m---------------------------------------------------------------------------\u001b[0m",
      "\u001b[0;31mAttributeError\u001b[0m                            Traceback (most recent call last)",
      "\u001b[0;32m<ipython-input-89-70da7cb00100>\u001b[0m in \u001b[0;36m<module>\u001b[0;34m\u001b[0m\n\u001b[1;32m      2\u001b[0m     \u001b[0mtheta_star\u001b[0m \u001b[0;34m=\u001b[0m \u001b[0mnorm\u001b[0m\u001b[0;34m.\u001b[0m\u001b[0mrvs\u001b[0m\u001b[0;34m(\u001b[0m\u001b[0mtheta\u001b[0m\u001b[0;34m,\u001b[0m\u001b[0mnp\u001b[0m\u001b[0;34m.\u001b[0m\u001b[0msqrt\u001b[0m\u001b[0;34m(\u001b[0m\u001b[0mdelta\u001b[0m\u001b[0;34m)\u001b[0m\u001b[0;34m,\u001b[0m\u001b[0;36m1\u001b[0m\u001b[0;34m)\u001b[0m\u001b[0;34m\u001b[0m\u001b[0m\n\u001b[1;32m      3\u001b[0m     logr = (dnorm(y,theta_star,np.sqrt(s2),log=True).sum() +\\\n\u001b[0;32m----> 4\u001b[0;31m             dnorm(theta_star.rdd,mu,np.sqrt(t2),log=True)).sum()- \\\n\u001b[0m\u001b[1;32m      5\u001b[0m            (dnorm(y,theta,np.sqrt(s2),log=True).sum() + \\\n\u001b[1;32m      6\u001b[0m             dnorm([theta.rdd],mu,np.sqrt(t2),log=True).sum())\n",
      "\u001b[0;31mAttributeError\u001b[0m: 'numpy.ndarray' object has no attribute 'rdd'"
     ]
    }
   ],
   "source": [
    "for s in range(S):\n",
    "    theta_star = norm.rvs(theta,np.sqrt(delta),1)\n",
    "    \n",
    "    logr = (dnorm(y,theta_star,np.sqrt(s2),log=True).sum() +\\\n",
    "            dnorm(theta_star.rdd,mu,np.sqrt(t2),log=True).sum())- \\\n",
    "           (dnorm(y,theta,np.sqrt(s2),log=True).sum() + \\\n",
    "            dnorm([theta.rdd],mu,np.sqrt(t2),log=True).sum())\n",
    "    #print(logr)\n",
    "    if np.log(runif(1))<logr:\n",
    "        theta = theta_star\n",
    "    #print(theta)    \n",
    "    theta_v.append(theta)  "
   ]
  },
  {
   "cell_type": "code",
   "execution_count": 12,
   "metadata": {},
   "outputs": [
    {
     "data": {
      "text/plain": [
       "[array([1.2295165]),\n",
       " array([1.2295165]),\n",
       " array([1.2295165]),\n",
       " array([3.46382438]),\n",
       " array([3.46382438]),\n",
       " array([4.05418425]),\n",
       " array([4.15016089]),\n",
       " array([4.15016089]),\n",
       " array([4.15016089])]"
      ]
     },
     "execution_count": 12,
     "metadata": {},
     "output_type": "execute_result"
    }
   ],
   "source": [
    "theta_v[1:10]"
   ]
  },
  {
   "cell_type": "code",
   "execution_count": 14,
   "metadata": {},
   "outputs": [
    {
     "data": {
      "image/png": "[encoded data removed]",
      "text/plain": [
       "<Figure size 1440x576 with 2 Axes>"
      ]
     },
     "metadata": {
      "needs_background": "light"
     },
     "output_type": "display_data"
    }
   ],
   "source": [
    "import matplotlib.mlab as mlab\n",
    "import matplotlib.pyplot as plt\n",
    "\n",
    "plt.figure(figsize=(20, 8))\n",
    "\n",
    "plt.subplot(1, 2, 1)\n",
    "plt.plot(theta_v,'b-.')\n",
    "        \n",
    "plt.subplot(1, 2, 2)\n",
    "#bins = np.arange(0, S, 10) \n",
    "plt.hist(theta_v, density=True,bins='auto')\n",
    "x = np.linspace(min(theta_v),max(theta_v),100) \n",
    "y = norm.pdf(x,mu_n,np.sqrt(t2_n))\n",
    "plt.plot(x,y,'y-.')\n",
    "plt.xlim(right=12)  # adjust the right leaving left unchanged\n",
    "plt.xlim(left=8)  # adjust the left leaving right unchanged\n",
    "plt.show()"
   ]
  },
  {
   "cell_type": "code",
   "execution_count": null,
   "metadata": {},
   "outputs": [],
   "source": []
  }
 ],
 "metadata": {
  "kernelspec": {
   "display_name": "Python 3",
   "language": "python",
   "name": "python3"
  },
  "language_info": {
   "codemirror_mode": {
    "name": "ipython",
    "version": 3
   },
   "file_extension": ".py",
   "mimetype": "text/x-python",
   "name": "python",
   "nbconvert_exporter": "python",
   "pygments_lexer": "ipython3",
   "version": "3.6.6"
  }
 },
 "nbformat": 4,
 "nbformat_minor": 2
}
